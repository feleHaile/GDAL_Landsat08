{
 "cells": [
  {
   "cell_type": "code",
   "execution_count": 1,
   "metadata": {},
   "outputs": [
    {
     "name": "stdout",
     "output_type": "stream",
     "text": [
      "2.3.3\n"
     ]
    }
   ],
   "source": [
    "# importar biblioteca\n",
    "from osgeo import gdal\n",
    "\n",
    "# importar constantes\n",
    "from gdalconst import *\n",
    "\n",
    "# informar o uso de exceções\n",
    "gdal.UseExceptions()\n",
    "\n",
    "# mostrar versão instalada\n",
    "print (gdal.__version__)"
   ]
  },
  {
   "cell_type": "markdown",
   "metadata": {},
   "source": [
    "GDAL is a library for geographic data format translation distributed by the Open Source Geospatial Foundation (OSGeo) under the X / MIT license, an Open Source style.\n",
    "\n",
    "GDAL stands for Geospatial Data Abstraction Library, and allows users to manipulate 142 raster file formats and 84 vector file formats.\n",
    "\n",
    "Applications that use it access all formats supported by the library through a single abstract data model. The GDAL library also has a variety of command line utility programs for format translation as well as a host of other functions.\n",
    "\n",
    "Traditionally the GDAL library referred to Raster data while OGR referred to Simple Features. But from version 2.0 the two parts are more integrated.\n",
    "\n",
    "Home: http://www.gdal.org\n",
    "\n",
    "Official Python Documentation: http://gdal.org/python/"
   ]
  },
  {
   "cell_type": "markdown",
   "metadata": {},
   "source": [
    "### 2. Raster\n",
    "\n",
    "\"The word raster has its origins in the Latin rastrum (a rake, ancinho), which is derived from radere (to scrape, raspar/arranhar). It originates from the raster scan video monitors, which paint the image line by line by magnetically steering a focused electron beam.\n",
    "\n",
    "By association, it can also refer to a rectangular grid of pixels. The word rastrum is now used to refer to a device for drawing musical staff lines.\"\n",
    "\n",
    "Fonte: Wikipedia"
   ]
  },
  {
   "cell_type": "markdown",
   "metadata": {},
   "source": [
    "### 3. Storage Structure"
   ]
  },
  {
   "cell_type": "code",
   "execution_count": null,
   "metadata": {},
   "outputs": [],
   "source": []
  },
  {
   "cell_type": "markdown",
   "metadata": {},
   "source": [
    "### 4. The grid contains metadata related to images, including:\n",
    "\n",
    "geographical boundaries\n",
    "spatial reference system\n",
    "number of rows / columns\n",
    "6 coefficients for related transformation:"
   ]
  },
  {
   "cell_type": "raw",
   "metadata": {},
   "source": [
    "[0] is the x coordinate of the upper left cell in raster\n",
    "[1] is the width of the elements in the raster\n",
    "[2] is the element rotation in x, is set to 0 if a north up raster\n",
    "[3] is the y coordinate of the upper left cell in raster\n",
    "[4] is the element rotation in y, is set to 0 if a north up raster\n",
    "[5] is the height of the elements in the raster (negative)"
   ]
  },
  {
   "cell_type": "markdown",
   "metadata": {},
   "source": [
    "### 5. Band\n"
   ]
  },
  {
   "cell_type": "raw",
   "metadata": {},
   "source": [
    "It is the band that contains the information of the digital levels of the images, besides other properties:\n",
    "\n",
    "NoDataValue\n",
    "Minimum / Maximum\n",
    "Histogram\n",
    "Data Type\n",
    "Statistics (mean / standard deviation)\n",
    "pixel matrix"
   ]
  },
  {
   "cell_type": "markdown",
   "metadata": {},
   "source": [
    "### 6. Opening raster files"
   ]
  },
  {
   "cell_type": "markdown",
   "metadata": {},
   "source": [
    "The open function is used to open a dataset, which requires two parameters:\n",
    "\n",
    "File Name: Path and Full Name\n",
    "Form of Access: information if the opening will be read-only or also change in the file (GA_ReadOnly or GA_Update)."
   ]
  },
  {
   "cell_type": "code",
   "execution_count": 3,
   "metadata": {},
   "outputs": [],
   "source": [
    "# create dataset by opening file for reading\n",
    "# filename = \"imagens/2130115_2012-10-14T150656_RE2_3A-NAC_14557172_172240.tif\"\n",
    "filename = \"C:/Users/mac/Documents/Lake_Abaya_Chamo/LC08_169056_20181120/LC08_L1TP_169056_20181120_20181129_01_T1.tar/LC08_L1TP_169056_20181120_20181129_01_T1_B1_9.Stack.TIF\"\n",
    "dataset = gdal.Open(filename, GA_ReadOnly)\n",
    "\n",
    "# fechar o dataset e liberar memória\n",
    "dataset = None"
   ]
  },
  {
   "cell_type": "code",
   "execution_count": 5,
   "metadata": {},
   "outputs": [
    {
     "name": "stdout",
     "output_type": "stream",
     "text": [
      "Try to openteste/C:/Users/mac/Documents/Lake_Abaya_Chamo/LC08_169056_20181120/LC08_L1TP_169056_20181120_20181129_01_T1.tar/LC08_L1TP_169056_20181120_20181129_01_T1_B1_9.Stack.TIF\n",
      "Erro opening file!\n",
      "Try to openC:/Users/mac/Documents/Lake_Abaya_Chamo/LC08_169056_20181120/LC08_L1TP_169056_20181120_20181129_01_T1.tar/LC08_L1TP_169056_20181120_20181129_01_T1_B1_9.Stack.TIF\n",
      "File successfully opened!\n"
     ]
    }
   ],
   "source": [
    "# library of system-related functions\n",
    "# sys: System-specific parameters and functions\n",
    "import sys\n",
    "\n",
    "filename_erro = \"teste/\" + filename\n",
    "print (\"Try to open\" + filename_erro)\n",
    "\n",
    "try:\n",
    "    dataset = gdal.Open(filename_erro, GA_ReadOnly)\n",
    "    print (\"File successfuly opened!\")\n",
    "except:\n",
    "    print(\"Erro opening file!\")\n",
    "    \n",
    "print (\"Try to open\" + filename)\n",
    "try:\n",
    "    dataset = gdal.Open(filename, GA_ReadOnly)\n",
    "    print (\"File successfully opened!\")\n",
    "except:\n",
    "    print(\"Erro opening file!\")"
   ]
  },
  {
   "cell_type": "markdown",
   "metadata": {},
   "source": [
    "### 6.2 DATASET Handling\n",
    "A raster dataset can contain one or more bands (or data layers) that may be representing variations of spectral channels of the same sensor or the same variable over time. Each band of a dataset always has the same dimensions in X and Y (columns and rows), and thus covers the same spatial extent."
   ]
  },
  {
   "cell_type": "code",
   "execution_count": 6,
   "metadata": {},
   "outputs": [
    {
     "name": "stdout",
     "output_type": "stream",
     "text": [
      "(207885.0, 30.0, 0.0, 915615.0, 0.0, -30.0)\n"
     ]
    }
   ],
   "source": [
    "geotransform = dataset.GetGeoTransform()\n",
    "print (geotransform)"
   ]
  },
  {
   "cell_type": "markdown",
   "metadata": {},
   "source": [
    "As can be seen from the above listing, the GetGeoTransform method returns a tuple with the respective values ​​quoted above, referring to the georeferencing transformation of the dataset used as an example."
   ]
  },
  {
   "cell_type": "code",
   "execution_count": 9,
   "metadata": {},
   "outputs": [
    {
     "name": "stdout",
     "output_type": "stream",
     "text": [
      "Dataset start latitude: 915615.0\n",
      "Dataset initial longitude: 207885.0\n",
      "Resolution (x) do dataset: 30.0\n",
      "Resolution (y) do dataset: 30.0\n"
     ]
    }
   ],
   "source": [
    "# [0] is the x coordinate of the upper left cell in raster\n",
    "# [1] is the width of the elements in the raster\n",
    "# [2] is the element rotation in x, is set to 0 if a north up raster\n",
    "# [3] is the y coordinate of the upper left cell in raster\n",
    "# [4] is the element rotation in y, is set to 0 if a north up raster\n",
    "# [5] is the height of the elements in the raster (negative)\n",
    "\n",
    "latitude = geotransform[3]\n",
    "longitude = geotransform[0]\n",
    "resolution_x = geotransform[1]\n",
    "resolution_y = -geotransform[5]\n",
    "\n",
    "print (\"Dataset start latitude:\", latitude)\n",
    "print (\"Dataset initial longitude:\", longitude)\n",
    "print (\"Resolution (x) do dataset:\", resolution_x)\n",
    "print (\"Resolution (y) do dataset:\", resolution_y)"
   ]
  },
  {
   "cell_type": "markdown",
   "metadata": {},
   "source": [
    "To know which coordinate system in this dataset, you must use the GetProjectionRef method which returns a description in WKT (Well-Known Text) format, which is a text markup language used to represent a spatial reference system of spatial objects. the transformation between coordinate systems."
   ]
  },
  {
   "cell_type": "code",
   "execution_count": 10,
   "metadata": {},
   "outputs": [
    {
     "name": "stdout",
     "output_type": "stream",
     "text": [
      "PROJCS[\"WGS_1984_UTM_Zone_37N\",GEOGCS[\"WGS 84\",DATUM[\"WGS_1984\",SPHEROID[\"WGS 84\",6378137,298.257223563,AUTHORITY[\"EPSG\",\"7030\"]],AUTHORITY[\"EPSG\",\"6326\"]],PRIMEM[\"Greenwich\",0],UNIT[\"degree\",0.0174532925199433],AUTHORITY[\"EPSG\",\"4326\"]],PROJECTION[\"Transverse_Mercator\"],PARAMETER[\"latitude_of_origin\",0],PARAMETER[\"central_meridian\",39],PARAMETER[\"scale_factor\",0.9996],PARAMETER[\"false_easting\",500000],PARAMETER[\"false_northing\",0],UNIT[\"metre\",1,AUTHORITY[\"EPSG\",\"9001\"]],AUTHORITY[\"EPSG\",\"32637\"]]\n"
     ]
    }
   ],
   "source": [
    "print (dataset.GetProjectionRef())"
   ]
  },
  {
   "cell_type": "markdown",
   "metadata": {},
   "source": [
    "A Spatial Reference System (SRS) or Coordinate Reference System (CRS) can be a local, regional or global based system used to locate geographic objects.\n",
    "\n",
    "To enable greater interoperability and ease of use, various geographic information systems refer to a Spatial Reference System indicating only an integer representing the SRID or EPSG codes that are defined by the International Association of Oil and Gas Producers.\n",
    "\n",
    "To identify the correct codes for the spatial reference system of interest you can use the following portals:\n",
    "\n",
    "http://epsg.io\n",
    "\n",
    "http://spatialreference.org"
   ]
  },
  {
   "cell_type": "markdown",
   "metadata": {},
   "source": [
    "### 6.3 File Dimensions\n",
    "To know the number of rows and columns of the dataset being used we must use the Raster Y Size and Raster X Size method as shown in the example:"
   ]
  },
  {
   "cell_type": "code",
   "execution_count": 13,
   "metadata": {},
   "outputs": [
    {
     "name": "stdout",
     "output_type": "stream",
     "text": [
      "Number of rows: 7761\n",
      "Number of columns: 7611\n"
     ]
    }
   ],
   "source": [
    "# number of rows and columns\n",
    "rows = dataset.RasterYSize\n",
    "columns = dataset.RasterXSize\n",
    "\n",
    "print (\"Number of rows:\", rows)\n",
    "print (\"Number of columns:\", columns)"
   ]
  },
  {
   "cell_type": "markdown",
   "metadata": {},
   "source": [
    "### 6.4 Reading data from file band\n",
    "Depois da abertura do arquivo e da geração do dataset, a leitura de cada banda deve ser realizada individualmente e de forma repetida iniciando a partir da banda 1 até o total de bandas de cada arquivo, que pode ser obtido por meio do método RasterCount"
   ]
  },
  {
   "cell_type": "code",
   "execution_count": 21,
   "metadata": {},
   "outputs": [
    {
     "name": "stdout",
     "output_type": "stream",
     "text": [
      "Number of Bands: 8\n"
     ]
    }
   ],
   "source": [
    "# number of bands in the stacked images for Lnadsat8(Bnads 1-7, 9)\n",
    "bands = dataset.RasterCount\n",
    "\n",
    "print (\"Number of Bands:\", bands)\n",
    "\n",
    "# in the case of Landsat 8 image, bands 5\n",
    "# and 4 correspond to NIR and RED bands\n",
    "band_nir = dataset.GetRasterBand (5)\n",
    "band_red = dataset.GetRasterBand (4)"
   ]
  },
  {
   "cell_type": "markdown",
   "metadata": {},
   "source": [
    "An important property for proper data manipulation is to check the type of stored data that has just been read from the band."
   ]
  },
  {
   "cell_type": "code",
   "execution_count": 22,
   "metadata": {},
   "outputs": [
    {
     "name": "stdout",
     "output_type": "stream",
     "text": [
      "Data Types:\n",
      "band_nir: UInt16\n",
      "band_red: UInt16\n"
     ]
    }
   ],
   "source": [
    "print (\"Data Types:\")\n",
    "print (\"band_nir:\", gdal.GetDataTypeName(band_nir.DataType))\n",
    "print (\"band_red:\", gdal.GetDataTypeName(band_red.DataType))"
   ]
  },
  {
   "cell_type": "markdown",
   "metadata": {},
   "source": [
    "You can know the minimum and maximum value of a band using the ComputeRasterMinMax band method."
   ]
  },
  {
   "cell_type": "code",
   "execution_count": 26,
   "metadata": {},
   "outputs": [
    {
     "name": "stdout",
     "output_type": "stream",
     "text": [
      "Lowest RED: 0.0\n",
      "Highest RED: 49318.0\n"
     ]
    }
   ],
   "source": [
    "(lowest_value, highest_value) = band_red.ComputeRasterMinMax ()\n",
    "print (\"Lowest RED:\", lowest_value)\n",
    "print (\"Highest RED:\", highest_value)"
   ]
  },
  {
   "cell_type": "code",
   "execution_count": 27,
   "metadata": {},
   "outputs": [
    {
     "name": "stdout",
     "output_type": "stream",
     "text": [
      "Lowest NIR: 0.0\n",
      "Highest NIR: 55086.0\n"
     ]
    }
   ],
   "source": [
    "(lowest_value, highest_value) = band_nir.ComputeRasterMinMax ()\n",
    "print (\"Lowest NIR:\", lowest_value)\n",
    "print (\"Highest NIR:\", highest_value)"
   ]
  },
  {
   "cell_type": "markdown",
   "metadata": {},
   "source": [
    "### Exercises\n",
    "Write a program to display the minimum and maximum values ​​of all working raster bands."
   ]
  },
  {
   "cell_type": "code",
   "execution_count": 28,
   "metadata": {},
   "outputs": [
    {
     "name": "stdout",
     "output_type": "stream",
     "text": [
      "Mínimum and maximum band 1\n",
      "(0.0, 43694.0)\n",
      "Mínimum and maximum band 2\n",
      "(0.0, 45875.0)\n",
      "Mínimum and maximum band 3\n",
      "(0.0, 46677.0)\n",
      "Mínimum and maximum band 4\n",
      "(0.0, 49318.0)\n",
      "Mínimum and maximum band 5\n",
      "(0.0, 55086.0)\n",
      "Mínimum and maximum band 6\n",
      "(0.0, 52204.0)\n",
      "Mínimum and maximum band 7\n",
      "(0.0, 65535.0)\n",
      "Mínimum and maximum band 8\n",
      "(0.0, 8267.0)\n"
     ]
    }
   ],
   "source": [
    "for i in range(bands):\n",
    "    print (\"Mínimum and maximum band\", i + 1)\n",
    "    print (dataset.GetRasterBand(i + 1).ComputeRasterMinMax())"
   ]
  },
  {
   "cell_type": "markdown",
   "metadata": {},
   "source": [
    "Once the band object is created we need to read the data to begin any processing with these values. A widely used way is to manipulate the matrix data with the aid of the NumPy library, using the ReadAsArray method to read the values ​​generating a multidimensional array. Another important information is to know if the matrix that was generated by reading the band was created with the number of rows and columns correctly, this should be done using the shape method."
   ]
  },
  {
   "cell_type": "code",
   "execution_count": 29,
   "metadata": {},
   "outputs": [
    {
     "name": "stdout",
     "output_type": "stream",
     "text": [
      "(7761, 7611)\n"
     ]
    },
    {
     "name": "stderr",
     "output_type": "stream",
     "text": [
      "C:\\ProgramData\\Anaconda3\\lib\\site-packages\\ipykernel_launcher.py:6: RuntimeWarning: invalid value encountered in true_divide\n",
      "  \n"
     ]
    }
   ],
   "source": [
    "# get it from the numpy arrays of the bands\n",
    "array_red = band_red.ReadAsArray ()\n",
    "array_nir = band_nir.ReadAsArray ()\n",
    "\n",
    "# Generation of array derived from the bands\n",
    "array_ndvi = (array_nir - array_red) / (array_nir + array_red)\n",
    "# show output array dimensions\n",
    "print (array_ndvi.shape)"
   ]
  },
  {
   "cell_type": "markdown",
   "metadata": {},
   "source": [
    "We can combine the NumPy and Matplotlib libraries to view the arrays as images."
   ]
  },
  {
   "cell_type": "code",
   "execution_count": 31,
   "metadata": {},
   "outputs": [
    {
     "name": "stderr",
     "output_type": "stream",
     "text": [
      "C:\\ProgramData\\Anaconda3\\lib\\site-packages\\matplotlib\\figure.py:98: MatplotlibDeprecationWarning: \n",
      "Adding an axes using the same arguments as a previous axes currently reuses the earlier instance.  In a future version, a new instance will always be created and returned.  Meanwhile, this warning can be suppressed, and the future behavior ensured, by passing a unique label to each axes instance.\n",
      "  \"Adding an axes using the same arguments as a previous axes \"\n"
     ]
    },
    {
     "data": {
      "image/png": "[encoded data removed]",
      "text/plain": [
       "<Figure size 720x360 with 3 Axes>"
      ]
     },
     "metadata": {
      "needs_background": "light"
     },
     "output_type": "display_data"
    }
   ],
   "source": [
    "# display dos resultados\n",
    "import matplotlib.pyplot as plt\n",
    "\n",
    "plt.figure(figsize=(10, 5))\n",
    "\n",
    "plt.subplot(131)\n",
    "plt.title(\"Band RED\")\n",
    "plt.imshow(array_red, cmap='gray')\n",
    "\n",
    "plt.subplot(131)\n",
    "plt.title(\"Band RED\")\n",
    "plt.imshow(array_red, cmap='gray')\n",
    "\n",
    "plt.subplot(132)\n",
    "plt.title(\"Band NIR\")\n",
    "plt.imshow(array_nir, cmap='gray')\n",
    "\n",
    "plt.subplot(133)\n",
    "plt.title(\"NDVI\")\n",
    "plt.imshow(array_ndvi, cmap='gray')\n",
    "plt.show()"
   ]
  },
  {
   "cell_type": "code",
   "execution_count": null,
   "metadata": {},
   "outputs": [],
   "source": []
  }
 ],
 "metadata": {
  "kernelspec": {
   "display_name": "Python 3",
   "language": "python",
   "name": "python3"
  },
  "language_info": {
   "codemirror_mode": {
    "name": "ipython",
    "version": 3
   },
   "file_extension": ".py",
   "mimetype": "text/x-python",
   "name": "python",
   "nbconvert_exporter": "python",
   "pygments_lexer": "ipython3",
   "version": "3.7.3"
  }
 },
 "nbformat": 4,
 "nbformat_minor": 2
}
