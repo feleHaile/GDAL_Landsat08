{
 "cells": [
  {
   "cell_type": "markdown",
   "metadata": {},
   "source": [
    "### Manipulation of Matrix Data - Part III"
   ]
  },
  {
   "cell_type": "markdown",
   "metadata": {},
   "source": [
    "GDAL - Part III\n",
    "Steps needed to manipulate images:\n",
    "\n",
    "import libraries (GDAL, NumPy, etc)\n",
    "set correct path of raster files\n",
    "open a dataset for each file\n",
    "check metadata compatibility\n",
    "get the bands of each raster\n",
    "convert bands to arrays in NumPy format\n",
    "manipulate digital numbers present in matrices\n",
    "(if necessary) save the information to a new raster file"
   ]
  },
  {
   "cell_type": "code",
   "execution_count": 1,
   "metadata": {},
   "outputs": [],
   "source": [
    "# Import libraries\n",
    "from osgeo import gdal\n",
    "import numpy as np\n",
    "from matplotlib import pyplot as plt\n",
    "\n",
    "# Import constants\n",
    "from gdalconst import *\n",
    "\n",
    "# Report the use of exceptions\n",
    "gdal.UseExceptions()\n",
    "\n",
    "# library of system-related functions\n",
    "# sys: System-specific parameters and functions\n",
    "import sys"
   ]
  },
  {
   "cell_type": "markdown",
   "metadata": {},
   "source": [
    "### Exercise - Open two images (LC08_20181120_band_4.tif and LC08_20181120_band_5.tif), perform band arithmetic (use NDVI) and apply slicing (pixels> 0.5)"
   ]
  },
  {
   "cell_type": "code",
   "execution_count": 16,
   "metadata": {},
   "outputs": [
    {
     "name": "stderr",
     "output_type": "stream",
     "text": [
      "C:\\ProgramData\\Anaconda3\\lib\\site-packages\\dask\\config.py:168: YAMLLoadWarning: calling yaml.load() without Loader=... is deprecated, as the default Loader is unsafe. Please read https://msg.pyyaml.org/load for full details.\n",
      "  data = yaml.load(f.read()) or {}\n"
     ]
    }
   ],
   "source": [
    "#import earthpy.spatial as es\n",
    "import os\n",
    "from glob import glob\n",
    "import matplotlib.pyplot as plt\n",
    "import rasterio as rio\n",
    "from rasterio.plot import plotting_extent\n",
    "import geopandas as gpd\n",
    "import earthpy as et\n",
    "import earthpy.spatial as es\n",
    "import earthpy.plot as ep"
   ]
  },
  {
   "cell_type": "code",
   "execution_count": 17,
   "metadata": {},
   "outputs": [],
   "source": [
    "file_path= \"C:/Users/mac/Documents/Lake_Abaya_Chamo/LC08_169056_20181120/LC08_L1TP_169056_20181120_20181129_01_T1.tar/\""
   ]
  },
  {
   "cell_type": "code",
   "execution_count": 19,
   "metadata": {},
   "outputs": [],
   "source": [
    "# open 2 images with 1 band each\n",
    "#filename_LC08_20181120_band_4= \"C:/Users/mac/Documents/Lake_Abaya_Chamo/LC08_169056_20181120/LC08_L1TP_169056_20181120_20181129_01_T1.tar/LC08_L1TP_169056_20181120_20181129_01_T1_B*[4-5]*.TIF\" # red\n",
    "#filename_LC08_20181120_band_5= \"C:/Users/mac/Documents/Lake_Abaya_Chamo/LC08_169056_20181120/LC08_L1TP_169056_20181120_20181129_01_T1.tar/LC08_L1TP_169056_20181120_20181129_01_T1_B5.TIF\" # nir\n",
    "filename_LC08_20181120_band= glob(\"C:/Users/mac/Documents/Lake_Abaya_Chamo/LC08_169056_20181120/LC08_L1TP_169056_20181120_20181129_01_T1.tar/LC08_L1TP_169056_20181120_20181129_01_T1_B*[4-5]*.TIF\") # red\n",
    "\n",
    "filename_LC08_20181120_band.sort()\n",
    "LC08_20181120_band_stack, meta = es.stack(filename_LC08_20181120_band, nodata=-9999)"
   ]
  },
  {
   "cell_type": "code",
   "execution_count": 22,
   "metadata": {},
   "outputs": [
    {
     "name": "stderr",
     "output_type": "stream",
     "text": [
      "C:\\ProgramData\\Anaconda3\\lib\\site-packages\\ipykernel_launcher.py:32: RuntimeWarning: invalid value encountered in greater\n"
     ]
    }
   ],
   "source": [
    "# open 2 images with 1 band each\n",
    "#filename_LC08_20181120_band_4= \"C:/Users/mac/Documents/Lake_Abaya_Chamo/LC08_169056_20181120/LC08_L1TP_169056_20181120_20181129_01_T1.tar/LC08_L1TP_169056_20181120_20181129_01_T1_B*[4-5]*.TIF\" # red\n",
    "#filename_LC08_20181120_band_5= \"C:/Users/mac/Documents/Lake_Abaya_Chamo/LC08_169056_20181120/LC08_L1TP_169056_20181120_20181129_01_T1.tar/LC08_L1TP_169056_20181120_20181129_01_T1_B5.TIF\" # nir\n",
    "#filename_LC08_20181120_band= \"C:/Users/mac/Documents/Lake_Abaya_Chamo/LC08_169056_20181120/LC08_L1TP_169056_20181120_20181129_01_T1.tar/LC08_L1TP_169056_20181120_20181129_01_T1_B*[4-5]*.TIF\" # red\n",
    "\n",
    "#filename_LC08_20181120_band.sort()\n",
    "#LC08_20181120_band_stack, meta = es.stack(filename_LC08_20181120_band, nodata=-9999)\n",
    "#filename_LC08_20181120_band_4.sort()\n",
    "#LC08_20181120_band_4_stack, meta = es.stack(filename_LC08_20181120_band_4, nodata=-9999)\n",
    "\n",
    "#filename_LC08_20181120_band_5.sort()\n",
    "#LC08_20181120_band_5_stack, meta = es.stack(filename_LC08_20181120_band_5, nodata=-9999)\n",
    "try:\n",
    "    dataset_LC08_20181120_band_4 = gdal.Open(filename_LC08_20181120_band_4, GA_ReadOnly) \n",
    "    dataset_LC08_20181120_band_5 = gdal.Open(filename_LC08_20181120_band_5, GA_ReadOnly) \n",
    "except:\n",
    "    print (\"Error opening a file!\")\n",
    "\n",
    "# all images have a band each\n",
    "LC08_20181120_band_4 = dataset_LC08_20181120_band_4.GetRasterBand(1)\n",
    "LC08_20181120_band_5 = dataset_LC08_20181120_band_5.GetRasterBand(1)\n",
    "\n",
    "# to perform band calculations, we use the numpy matrix conversion\n",
    "numpy_LC08_20181120_band_4 = LC08_20181120_band_4.ReadAsArray()\n",
    "numpy_LC08_20181120_band_5 = LC08_20181120_band_5.ReadAsArray()\n",
    "\n",
    "# create vegetation index band and apply slicing\n",
    "NDVI = es.normalized_diff(numpy_LC08_20181120_band_5, numpy_LC08_20181120_band_4)\n",
    "\n",
    "#numpy_LC08_20181120_ndvi = (numpy_LC08_20181120_band_5 - numpy_LC08_20181120_band_4) / \\\n",
    "                    #(numpy_LC08_20181120_band_5 + numpy_LC08_20181120_band_4)\n",
    "numpy_output = numpy_LC08_20181120_ndvi > 0.25"
   ]
  },
  {
   "cell_type": "markdown",
   "metadata": {},
   "source": [
    "### Saving a raster\n",
    "In this example, let's open two bands, perform an arithmetic (NDVI) followed by a slice, and save the result to a GeoTIFF file. To save a file with images, you must create a new dataset, enter all metadata related to the geographic context (projection system, geographic boundary, etc.) as well as the number of bands, number of rows and columns."
   ]
  },
  {
   "cell_type": "code",
   "execution_count": 26,
   "metadata": {},
   "outputs": [],
   "source": [
    "# get metadata\n",
    "rows = dataset_LC08_20181120_band_4.RasterYSize\n",
    "columns = dataset_LC08_20181120_band_4.RasterXSize\n",
    "band = dataset_LC08_20181120_band_4.RasterCount\n",
    "\n",
    "# save band to GeoTIFF file\n",
    "# set filename\n",
    "filename_output = \"C:/Users/mac/Documents/Lake_Abaya_Chamo/LC08_169056_20181120/LC08_L1TP_169056_20181120_20181129_01_T1.tar/LC08_20181120-ndvi-threshold.tif\"\n",
    "# set driver\n",
    "driver = gdal.GetDriverByName ('GTiff')\n",
    "# copy existing tape data type\n",
    "data_type = LC08_20181120_band_4.DataType\n",
    "# create new dataset\n",
    "dataset_output = driver.Create (filename_output, columns, rows, band, data_type)\n",
    "# copy spatial information from existing band\n",
    "dataset_output.SetGeoTransform (dataset_LC08_20181120_band_4.GetGeoTransform ())\n",
    "# copy projection information\n",
    "dataset_output.SetProjection (dataset_LC08_20181120_band_4.GetProjectionRef ())\n",
    "# write NumPy array data to band\n",
    "dataset_output.GetRasterBand (1) .WriteArray (numpy_output)\n",
    "# save values\n",
    "dataset_output.FlushCache ()\n",
    "# close dataset\n",
    "dataset_output = None"
   ]
  },
  {
   "cell_type": "markdown",
   "metadata": {},
   "source": [
    "Exercise - Create a save_band function to save a raster of a band, having as parameters a NumPy array with pixels, the filename GeoTIFF, and a reference dataset (for copying metadata)"
   ]
  },
  {
   "cell_type": "code",
   "execution_count": 27,
   "metadata": {},
   "outputs": [],
   "source": [
    "def save_band (pixel_array, filename, reference_data):\n",
    "    # get metadata\n",
    "    rows = dataset_de_referencia.RasterYSize\n",
    "    columns = dataset_de_referencia.RasterXSize\n",
    "    bands = 1\n",
    "    # set driver\n",
    "    driver = gdal.GetDriverByName ('GTiff')\n",
    "    # copy existing tape data type\n",
    "    data_type = reference_data.GetRasterBand (1) .DataType\n",
    "    # create new dataset\n",
    "    dataset_output = driver.Create (filename, columns, rows, bands, data_type)\n",
    "    # copy spatial information from existing band\n",
    "    dataset_output.SetGeoTransform (dataset_de_referencia.GetGeoTransform ())\n",
    "    # copy projection information\n",
    "    dataset_output.SetProjection (dataset_de_referencia.GetProjectionRef ())\n",
    "    # write NumPy array data to band\n",
    "    dataset_output.GetRasterBand (1) .WriteArray (pixel_array)\n",
    "    # save values\n",
    "    dataset_output.FlushCache ()\n",
    "    # close dataset\n",
    "    dataset_output = None"
   ]
  },
  {
   "cell_type": "markdown",
   "metadata": {},
   "source": [
    "\n",
    "Exercise - Given two 1 band rasters each (1 thematic map, 1 reference map), calculate the hit ratio of the thematic map classification and save a GeoTIFF file containing a map of agreement between the images."
   ]
  },
  {
   "cell_type": "code",
   "execution_count": null,
   "metadata": {},
   "outputs": [],
   "source": [
    "# open images\n",
    "filename_reference = \"images / referencia_area_urbana.tif\"\n",
    "filename_classification = \"images / classification_area_urbana.tif\"\n",
    "\n",
    "try:\n",
    "    dataset_reference = gdal.Open (filename_reference, GA_ReadOnly)\n",
    "    dataset_classification = gdal.Open (filename_classification, GA_ReadOnly)\n",
    "except:\n",
    "    print (\"Error opening file!\")\n",
    "\n",
    "# check metadata compatibility\n",
    "if (dataset_reference.GetProjectionRef ()! = dataset_classification.GetProjectionRef ()):\n",
    "    print (\"Different Reference Systems\")\n",
    "elif (dataset_reference.GetGeoTransform ()! = dataset_classification.GetGeoTransform ()):\n",
    "    print (\"Different spatial metadata\")\n",
    "else:\n",
    "    # get metadata\n",
    "    rows = dataset_reference.RasterYSize\n",
    "    columns = dataset_reference.RasterXSize\n",
    "\n",
    "    # get the bands\n",
    "    band_reference = dataset_reference.GetRasterBand (1)\n",
    "    band_classification = dataset_classification.GetRasterBand (1)\n",
    "\n",
    "    # generate pixel arrays\n",
    "    numpy_reference = band_reference.ReadAsArray ()\n",
    "    numpy_classification = band_classification.ReadAsArray ()\n",
    "\n",
    "    # generate comparison matrix\n",
    "    numpy_comparison = (numpy_reference == numpy_classification)\n",
    "    accuracy = 100 * numpy_comparison.sum () / (rows * columns)\n",
    "\n",
    "    # plot results\n",
    "    plt.figure (figsize = (15, 4))\n",
    "\n",
    "    plt.subplot (131)\n",
    "    plt.imshow (numpy_reference)\n",
    "    plt.title ('Reference Image')\n",
    "\n",
    "    plt.subplot (132)\n",
    "    plt.imshow (numpy_classification)\n",
    "    plt.title ('Classified Image')\n",
    "\n",
    "    plt.subplot (133)\n",
    "    plt.imshow (numpy_comparison)\n",
    "    plt.title ('Comparison Image,' + str (accuracy) + '% Accuracy')\n",
    "\n",
    "    plt.show ()\n",
    "\n",
    "# save image\n",
    "filename = \"images / comparison.tif\"\n",
    "save_band (numpy_comparison, filename, dataset_reference)\n",
    "\n",
    "# close images\n",
    "dataset_reference = None\n",
    "dataset_classification = None"
   ]
  },
  {
   "cell_type": "markdown",
   "metadata": {},
   "source": [
    "Exercise - Given 2 images (raster_target and raster_entry), find the location of the raster_target image inside the raster_entry image and plot the result (raster_entry with an overlapping x in the location)"
   ]
  },
  {
   "cell_type": "code",
   "execution_count": null,
   "metadata": {},
   "outputs": [],
   "source": [
    "\n",
    "# define where the images are\n",
    "raster_entrada = 'images / american-anticipation-audience-163368.jpg'\n",
    "raster_alvo = 'images / target_2.jpg'\n",
    "\n",
    "# generate gdal datasets\n",
    "dataset_entrada = gdal.Open (raster_entrada, GA_ReadOnly)\n",
    "target dataset = gdal.Open (target raster, GA_ReadOnly)\n",
    "\n",
    "# get the bands\n",
    "input_band = input_set.GetRasterBand (1) .ReadAsArray ()\n",
    "target_band = target_data.GetRasterBand (1) .ReadAsArray ()\n",
    "\n",
    "# get input image metadata\n",
    "Input_lines = input_data.RasterYSize\n",
    "Input_columns = input_ dataset.RasterXSize\n",
    "\n",
    "# get target image metadata\n",
    "Target_lines = target_data.RasterYSize\n",
    "Target_columns = target_details.RasterXSize\n",
    "\n",
    "# find target row / column in input image\n",
    "row = 0\n",
    "column = 0\n",
    "# create variable to store the most similar region\n",
    "highest_similar = 0\n",
    "for r in range (In_Rows - Target_lines):\n",
    "  for c in range (Input_Columns - Target_Columns):\n",
    "    # create cropping window of same size as target_band\n",
    "    window = input_band [r: r + Target_lines, c: c + Target_columns]\n",
    "    # compare how many pixels are equal between the two windows\n",
    "    equal pixels = (target band == window)\n",
    "    sum = equal_ pixels.sum ()\n",
    "    if (sum> major_similar):\n",
    "      line = r\n",
    "      column = c\n",
    "      greater_similar = summation\n",
    "\n",
    "# show result\n",
    "plt.imshow (target_band, cmap = 'gray')\n",
    "plt.title ('Target Image')\n",
    "\n",
    "plt.figure (figsize = (16,9))\n",
    "plt.imshow (bandwidth, cmap = 'gray', aspect = 'auto')\n",
    "plt.title ('Input Image')\n",
    "plt.plot (column + TargetColumns / 2, row + TargetColumns / 2, 'bx')\n",
    "\n",
    "plt.show ()\n",
    "\n",
    "# close the files\n",
    "dataset_entrada = None\n",
    "dataset_alvo = None"
   ]
  }
 ],
 "metadata": {
  "kernelspec": {
   "display_name": "Python 3",
   "language": "python",
   "name": "python3"
  },
  "language_info": {
   "codemirror_mode": {
    "name": "ipython",
    "version": 3
   },
   "file_extension": ".py",
   "mimetype": "text/x-python",
   "name": "python",
   "nbconvert_exporter": "python",
   "pygments_lexer": "ipython3",
   "version": "3.7.3"
  }
 },
 "nbformat": 4,
 "nbformat_minor": 2
}
